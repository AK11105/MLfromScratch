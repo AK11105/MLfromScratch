{
 "cells": [
  {
   "cell_type": "code",
   "execution_count": 5,
   "id": "6138c676-0ac8-42c8-9cac-cf2c9f64b145",
   "metadata": {},
   "outputs": [],
   "source": [
    "import numpy as np\n",
    "import pandas as pd\n",
    "import matplotlib.pyplot as plt\n",
    "from collections import Counter"
   ]
  },
  {
   "cell_type": "code",
   "execution_count": 2,
   "id": "629de910-5616-4b20-94a7-98ac1d43fdf9",
   "metadata": {},
   "outputs": [],
   "source": [
    "class KNNRegressor:\n",
    "    def __init__(self, n_neighbors=5):\n",
    "        self.n_neighbors = n_neighbors\n",
    "        self.X = None\n",
    "        self.y = None\n",
    "        \n",
    "    def fit(self, X_train, y_train):\n",
    "        self.X = np.asarray(X_train)\n",
    "        self.y = np.asarray(y_train)\n",
    "\n",
    "    def predict(self, X_test):\n",
    "        X_test = np.asarray(X_test)\n",
    "        test_predictions = []\n",
    "        for test_sample in range(X_test.shape[0]):\n",
    "            neighbor_distances = []\n",
    "            neighbors = []\n",
    "            for train_sample in range(self.X.shape[0]):\n",
    "                dist = np.linalg.norm(X_test[test_sample] - self.X[train_sample])\n",
    "                neighbor_distances.append(dist)\n",
    "\n",
    "            sorted_indices = np.argsort(neighbor_distances)\n",
    "            for i in range(self.n_neighbors):\n",
    "                neighbors.append(self.y[sorted_indices[i]])\n",
    "            pred = np.mean(neighbors)\n",
    "            test_predictions.append(pred)\n",
    "        return np.array(test_predictions)\n",
    "\n",
    "    def score(self, y_pred, y_test):\n",
    "        y_pred = np.asarray(y_pred)\n",
    "        y_test = np.asarray(y_test)\n",
    "        u = ((y_test - y_pred)**2).sum()\n",
    "        v = ((y_test - y_test.mean())**2).sum()\n",
    "        r2 = 1 - u/v\n",
    "        return r2\n",
    "        "
   ]
  },
  {
   "cell_type": "code",
   "execution_count": 4,
   "id": "830bcf65-0bf3-4a4f-aa0e-5db368ba3398",
   "metadata": {},
   "outputs": [
    {
     "name": "stdout",
     "output_type": "stream",
     "text": [
      "[12.5]\n"
     ]
    }
   ],
   "source": [
    "df_X = pd.DataFrame([[1, 2], [2, 3], [3, 4]])\n",
    "s_y = pd.Series([10, 15, 20])\n",
    "df_test = pd.DataFrame([[1.5, 2.5]])\n",
    "\n",
    "knn = KNNRegressor(n_neighbors=2)\n",
    "knn.fit(df_X, s_y)\n",
    "preds = knn.predict(df_test)\n",
    "print(preds)\n"
   ]
  },
  {
   "cell_type": "code",
   "execution_count": 8,
   "id": "9c7d3a19-31e7-4667-badf-3de65127b9dc",
   "metadata": {},
   "outputs": [],
   "source": [
    "class KNNClassifier:\n",
    "    def __init__(self, n_neighbors=5):\n",
    "        self.n_neighbors = n_neighbors\n",
    "        self.X = None\n",
    "        self.y = None\n",
    "\n",
    "    def fit(self, X_train, y_train):\n",
    "        self.X = np.asarray(X_train)\n",
    "        self.y = np.asarray(y_train)\n",
    "\n",
    "    def predict(self, X_test):\n",
    "        X_test = np.asarray(X_test)\n",
    "        test_predictions = []\n",
    "        for test_sample in range(X_test.shape[0]):\n",
    "            neighbor_distances = []\n",
    "            neighbors = []\n",
    "            for train_sample in range(self.X.shape[0]):\n",
    "                dist = np.linalg.norm(X_test[test_sample] - self.X[train_sample])\n",
    "                neighbor_distances.append(dist)\n",
    "\n",
    "            sorted_indices = np.argsort(neighbor_distances)\n",
    "            for i in range(self.n_neighbors):\n",
    "                neighbors.append(self.y[sorted_indices[i]])\n",
    "\n",
    "            pred = Counter(neighbors).most_common(1)[0][0]\n",
    "            test_predictions.append(pred)\n",
    "        return np.array(test_predictions)\n",
    "\n",
    "    def score(self, y_pred, y_true):\n",
    "        y_pred = np.asarray(y_pred)\n",
    "        y_true = np.asarray(y_true)\n",
    "        accuracy = (y_pred == y_true).mean()\n",
    "        return accuracy\n"
   ]
  },
  {
   "cell_type": "code",
   "execution_count": 9,
   "id": "aeddcf15-ecab-4778-a6fc-9177d1190333",
   "metadata": {},
   "outputs": [
    {
     "name": "stdout",
     "output_type": "stream",
     "text": [
      "['A' 'A']\n"
     ]
    }
   ],
   "source": [
    "import pandas as pd\n",
    "\n",
    "# Dummy classification dataset\n",
    "df = pd.DataFrame({\n",
    "    'feature1': [1, 2, 3, 6, 7],\n",
    "    'feature2': [5, 6, 7, 2, 3],\n",
    "    'label':    ['A', 'A', 'A', 'B', 'B']\n",
    "})\n",
    "\n",
    "X = df[['feature1', 'feature2']]\n",
    "y = df['label']\n",
    "\n",
    "X_train, X_test, y_train, y_test = train_test_split(X, y, test_size=0.4, random_state=42)\n",
    "\n",
    "clf = KNNClassifier(n_neighbors=3)\n",
    "clf.fit(X_train, y_train)\n",
    "predictions = clf.predict(X_test)\n",
    "\n",
    "print(predictions)\n"
   ]
  },
  {
   "cell_type": "code",
   "execution_count": null,
   "id": "7e20f1ba-a42f-4213-b9a3-289e553eab29",
   "metadata": {},
   "outputs": [],
   "source": []
  }
 ],
 "metadata": {
  "kernelspec": {
   "display_name": "ML-from-scratch",
   "language": "python",
   "name": "myenv"
  },
  "language_info": {
   "codemirror_mode": {
    "name": "ipython",
    "version": 3
   },
   "file_extension": ".py",
   "mimetype": "text/x-python",
   "name": "python",
   "nbconvert_exporter": "python",
   "pygments_lexer": "ipython3",
   "version": "3.13.3"
  }
 },
 "nbformat": 4,
 "nbformat_minor": 5
}
