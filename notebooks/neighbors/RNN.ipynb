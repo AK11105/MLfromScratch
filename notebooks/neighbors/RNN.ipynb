{
 "cells": [
  {
   "cell_type": "code",
   "execution_count": 4,
   "id": "fd3b9eef-2e5f-424a-a7b8-bc192935b2d3",
   "metadata": {},
   "outputs": [],
   "source": [
    "import numpy as np\n",
    "import pandas as pd\n",
    "from collections import Counter"
   ]
  },
  {
   "cell_type": "code",
   "execution_count": 2,
   "id": "60642bab-07b5-4595-8da3-a8cd14da3cc8",
   "metadata": {},
   "outputs": [],
   "source": [
    "class RNNRegressor:\n",
    "    def __init__(self, radius=1.0):\n",
    "        self.radius = radius\n",
    "        self.X = None\n",
    "        self.y = None\n",
    "\n",
    "    def fit(self, X_train, y_train):\n",
    "        self.X = np.asarray(X_train)\n",
    "        self.y = np.asarray(y_train)\n",
    "\n",
    "    def predict(self, X_test):\n",
    "        X_test = np.asarray(X_test)\n",
    "        test_predictions = []\n",
    "\n",
    "        for test_sample in range(X_test.shape[0]):\n",
    "            neighbor_distances = []\n",
    "            indices = []\n",
    "            for train_sample in range(self.X.shape[0]):\n",
    "                dist = np.linalg.norm(X_test[test_sample] - self.X[train_sample])\n",
    "                if dist <= self.radius:\n",
    "                    neighbor_distances.append(dist)\n",
    "                    indices.append(train_sample)\n",
    "\n",
    "            if indices:\n",
    "                neighbors = [self.y[i] for i in indices]\n",
    "                pred = np.mean(neighbors)\n",
    "            else:\n",
    "                # No neighbors found; fallback to global mean\n",
    "                pred = np.mean(self.y)\n",
    "\n",
    "            test_predictions.append(pred)\n",
    "        return np.asarray(test_predictions)\n",
    "\n",
    "    def score(self, y_pred, y_test):\n",
    "        y_pred = np.asarray(y_pred)\n",
    "        y_test = np.asarray(y_test)\n",
    "        u = ((y_test - y_pred) ** 2).sum()\n",
    "        v = ((y_test - y_test.mean()) ** 2).sum()\n",
    "        r2 = 1 - u / v\n",
    "        return r2\n",
    "        "
   ]
  },
  {
   "cell_type": "code",
   "execution_count": 3,
   "id": "128a64f6-07ed-4836-b805-263cb59836e7",
   "metadata": {},
   "outputs": [
    {
     "name": "stdout",
     "output_type": "stream",
     "text": [
      "Predictions: [1.5 3.5 2. ]\n",
      "R² Score: 1.0\n"
     ]
    }
   ],
   "source": [
    "import numpy as np\n",
    "\n",
    "X_train = np.array([[0], [1], [2], [3], [4]])\n",
    "y_train = np.array([0, 1, 2, 3, 4])\n",
    "\n",
    "X_test = np.array([[1.5], [3.5], [10]]) \n",
    "model = RNNRegressor(radius=1.0)\n",
    "model.fit(X_train, y_train)\n",
    "\n",
    "y_pred = model.predict(X_test)\n",
    "\n",
    "y_test = np.array([1.5, 3.5, 2.0])  # Pretend true labels (for illustration)\n",
    "\n",
    "# Output predictions and score\n",
    "print(\"Predictions:\", y_pred)\n",
    "print(\"R² Score:\", model.score(y_pred, y_test))\n"
   ]
  },
  {
   "cell_type": "code",
   "execution_count": 6,
   "id": "e5f8a39c-b25f-484b-8d45-ffde3d06a896",
   "metadata": {},
   "outputs": [],
   "source": [
    "class RNNClassifier:\n",
    "    def __init__(self, radius=1.0):\n",
    "        self.radius = radius\n",
    "        self.X = None\n",
    "        self.y = None\n",
    "\n",
    "    def fit(self, X_train, y_train):\n",
    "        self.X = np.asarray(X_train)\n",
    "        self.y = np.asarray(y_train)\n",
    "\n",
    "    def predict(self, X_test):\n",
    "        X_test = np.asarray(X_test)\n",
    "        test_predictions = []\n",
    "\n",
    "        for test_sample in range(X_test.shape[0]):\n",
    "            neighbor_distances = []\n",
    "            indices = []\n",
    "            for train_sample in range(self.X.shape[0]):\n",
    "                dist = np.linalg.norm(X_test[test_sample] - self.X[train_sample])\n",
    "                if dist <= self.radius:\n",
    "                    neighbor_distances.append(dist)\n",
    "                    indices.append(train_sample)\n",
    "\n",
    "            if indices:\n",
    "                neighbors = [self.y[i] for i in indices]\n",
    "                pred = Counter(neighbors).most_common(1)[0][0]\n",
    "            else:\n",
    "                # No neighbors found; fallback to global mode\n",
    "                pred = Counter(self.y).most_common(1)[0][0]\n",
    "\n",
    "            test_predictions.append(pred)\n",
    "        return np.asarray(test_predictions)\n",
    "\n",
    "    def score(self, y_pred, y_true):\n",
    "        y_pred = np.asarray(y_pred)\n",
    "        y_true = np.asarray(y_true)\n",
    "        accuracy = (y_pred == y_true).mean()\n",
    "        return accuracy\n",
    "        "
   ]
  },
  {
   "cell_type": "code",
   "execution_count": 7,
   "id": "3d3ff4f3-b92c-4113-952e-fde0ff7c8aa0",
   "metadata": {},
   "outputs": [
    {
     "name": "stdout",
     "output_type": "stream",
     "text": [
      "Predictions: [0 1 1]\n",
      "Accuracy: 1.0\n"
     ]
    }
   ],
   "source": [
    "# Sample classification data\n",
    "X_train = np.array([[0], [1], [2], [3], [4]])\n",
    "y_train = np.array([0, 0, 1, 1, 1])\n",
    "\n",
    "X_test = np.array([[1.5], [3.5], [10]])  # 10 has no close neighbors\n",
    "\n",
    "# Initialize and train\n",
    "model = RNNClassifier(radius=1.0)\n",
    "model.fit(X_train, y_train)\n",
    "\n",
    "# Predict and score\n",
    "y_pred = model.predict(X_test)\n",
    "y_test = np.array([0, 1, 1])  # Hypothetical true labels\n",
    "\n",
    "print(\"Predictions:\", y_pred)\n",
    "print(\"Accuracy:\", model.score(y_pred, y_test))\n"
   ]
  },
  {
   "cell_type": "code",
   "execution_count": null,
   "id": "e2b7045b-757b-4b71-9c63-910880e973fe",
   "metadata": {},
   "outputs": [],
   "source": []
  }
 ],
 "metadata": {
  "kernelspec": {
   "display_name": "ML-from-scratch",
   "language": "python",
   "name": "myenv"
  },
  "language_info": {
   "codemirror_mode": {
    "name": "ipython",
    "version": 3
   },
   "file_extension": ".py",
   "mimetype": "text/x-python",
   "name": "python",
   "nbconvert_exporter": "python",
   "pygments_lexer": "ipython3",
   "version": "3.13.3"
  }
 },
 "nbformat": 4,
 "nbformat_minor": 5
}
