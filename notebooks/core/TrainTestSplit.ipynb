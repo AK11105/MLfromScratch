{
 "cells": [
  {
   "cell_type": "code",
   "execution_count": 2,
   "id": "c9f48eac-77b5-429c-b817-460d993bffad",
   "metadata": {},
   "outputs": [],
   "source": [
    "import numpy as np\n",
    "import pandas as pd\n",
    "import matplotlib.pyplot as plt"
   ]
  },
  {
   "cell_type": "code",
   "execution_count": 3,
   "id": "31489038-5c9f-490e-b656-825d52483452",
   "metadata": {},
   "outputs": [],
   "source": [
    "def train_test_split(X, y, test_size, shuffle, random_state):\n",
    "    np.random.seed(random_state)\n",
    "    test_set_size = int(X.shape[0] * test_size)\n",
    "    if shuffle:\n",
    "        shuffled_indices = np.random.permutation(X.shape[0])\n",
    "        test_indices = shuffled_indices[:test_set_size]\n",
    "        train_indices = shuffled_indices[test_set_size:]\n",
    "        return X.iloc[train_indices], X.iloc[test_indices], y.iloc[train_indices], y.iloc[test_indices]\n",
    "    else:\n",
    "        indices = np.arange(X.shape[0])\n",
    "        test_indices = indices[:test_set_size]\n",
    "        train_indices = indices[test_set_size:]\n",
    "        return X.iloc[train_indices], X.iloc[test_indices], y.iloc[train_indices], y.iloc[test_indices]\n",
    "        "
   ]
  },
  {
   "cell_type": "code",
   "execution_count": 4,
   "id": "adf6bfc0-5b8a-4500-91bf-da7a9e9cff66",
   "metadata": {},
   "outputs": [],
   "source": [
    "X = pd.DataFrame({\n",
    "    'feature_1': np.random.randn(100),\n",
    "    'feature_2': np.random.uniform(0, 10, 100),\n",
    "    'feature_3': np.random.randint(0, 100, 100)\n",
    "})\n",
    "\n",
    "# 70% class 0, 30% class 1\n",
    "y_values = [0]*70 + [1]*30\n",
    "np.random.shuffle(y_values)\n",
    "y = pd.Series(y_values)\n"
   ]
  },
  {
   "cell_type": "code",
   "execution_count": 6,
   "id": "715df13b-0412-480f-bb0a-9ac902a20e66",
   "metadata": {},
   "outputs": [
    {
     "name": "stdout",
     "output_type": "stream",
     "text": [
      "Train X shape: (80, 3)\n",
      "Test X shape: (20, 3)\n",
      "Train label distribution:\n",
      " 0    0.7125\n",
      "1    0.2875\n",
      "Name: proportion, dtype: float64\n",
      "Test label distribution:\n",
      " 0    0.65\n",
      "1    0.35\n",
      "Name: proportion, dtype: float64\n"
     ]
    }
   ],
   "source": [
    "X_train, X_test, y_train, y_test = train_test_split(X, y, test_size=0.2, shuffle=True, random_state=42)\n",
    "\n",
    "# Check shapes\n",
    "print(f\"Train X shape: {X_train.shape}\")\n",
    "print(f\"Test X shape: {X_test.shape}\")\n",
    "\n",
    "# Check label distributions\n",
    "print(\"Train label distribution:\\n\", y_train.value_counts(normalize=True))\n",
    "print(\"Test label distribution:\\n\", y_test.value_counts(normalize=True))"
   ]
  },
  {
   "cell_type": "code",
   "execution_count": 7,
   "id": "7a17fd07-8045-4a9a-bbfc-83fe904c1359",
   "metadata": {},
   "outputs": [
    {
     "name": "stdout",
     "output_type": "stream",
     "text": [
      "Train X shape: (80, 3)\n",
      "Test X shape: (20, 3)\n",
      "Train label distribution:\n",
      " 0    0.6875\n",
      "1    0.3125\n",
      "Name: proportion, dtype: float64\n",
      "Test label distribution:\n",
      " 0    0.75\n",
      "1    0.25\n",
      "Name: proportion, dtype: float64\n"
     ]
    }
   ],
   "source": [
    "X_train, X_test, y_train, y_test = train_test_split(X, y, test_size=0.2, shuffle=False, random_state=42)\n",
    "\n",
    "# Check shapes\n",
    "print(f\"Train X shape: {X_train.shape}\")\n",
    "print(f\"Test X shape: {X_test.shape}\")\n",
    "\n",
    "# Check label distributions\n",
    "print(\"Train label distribution:\\n\", y_train.value_counts(normalize=True))\n",
    "print(\"Test label distribution:\\n\", y_test.value_counts(normalize=True))"
   ]
  },
  {
   "cell_type": "code",
   "execution_count": 11,
   "id": "9d491128-1e5b-4b32-a14d-629b99d86fe1",
   "metadata": {},
   "outputs": [],
   "source": [
    "classes, vals = np.unique(y, return_inverse=True)"
   ]
  },
  {
   "cell_type": "code",
   "execution_count": 14,
   "id": "3142e53f-985d-41e5-b5af-e35ef081c542",
   "metadata": {},
   "outputs": [
    {
     "data": {
      "text/plain": [
       "1.0"
      ]
     },
     "execution_count": 14,
     "metadata": {},
     "output_type": "execute_result"
    }
   ],
   "source": [
    "class_info = {}\n",
    "for cls in classes:\n",
    "    class_tf = (vals == cls)\n",
    "    class_rat = np.sum(class_tf)/len(vals)\n",
    "    class_info.update({cls: class_rat})"
   ]
  },
  {
   "cell_type": "code",
   "execution_count": null,
   "id": "3c298f2d-2a65-4572-9303-cf7397254c45",
   "metadata": {},
   "outputs": [],
   "source": [
    "final_train_indices = []\n",
    "final_test_indices = []\n",
    "for cls in class_info:\n",
    "    indices = all_indices[vals == cls]\n",
    "    if shuffle:\n",
    "        np.random.shuffle(indices)\n",
    "    test_set_size = int(len(indices) * test_size)\n",
    "    test_indices = indices[:test_set_size]\n",
    "    train_indices = indices[test_set_size:]\n",
    "    final_train_indices.extend(train_indices)\n",
    "    final_test_indices.extend(test_indices)"
   ]
  },
  {
   "cell_type": "code",
   "execution_count": 15,
   "id": "bac18b41-ab56-4241-b075-8503ad33ebfd",
   "metadata": {},
   "outputs": [],
   "source": [
    "def train_test_split(X, y, test_size, shuffle, stratify, random_state):\n",
    "    np.random.seed(random_state)\n",
    "    if stratify:\n",
    "        classes, vals = np.unique(y, return_inverse=True)\n",
    "        final_train_indices = []\n",
    "        final_test_indices = []\n",
    "        all_indices = np.arange(len(y))\n",
    "        for cls in classes:\n",
    "            indices = all_indices[vals == cls]\n",
    "            if shuffle:\n",
    "                np.random.shuffle(indices)\n",
    "            test_set_size = max(1, int(round(len(indices) * test_size)))\n",
    "            test_indices = indices[:test_set_size]\n",
    "            train_indices = indices[test_set_size:]\n",
    "            final_train_indices.extend(train_indices)\n",
    "            final_test_indices.extend(test_indices)\n",
    "        return X.iloc[final_train_indices], X.iloc[final_test_indices], y.iloc[final_train_indices], y.iloc[final_test_indices]\n",
    "    else:\n",
    "        test_set_size = int(X.shape[0] * test_size)\n",
    "        indices = np.arange(X.shape[0])\n",
    "        if shuffle:\n",
    "            np.random.shuffle(indices)\n",
    "        test_indices = indices[:test_set_size]\n",
    "        train_indices = indices[test_set_size:]\n",
    "        return X.iloc[train_indices], X.iloc[test_indices], y.iloc[train_indices], y.iloc[test_indices]\n"
   ]
  },
  {
   "cell_type": "code",
   "execution_count": null,
   "id": "8431ed31-348a-4891-9605-c88e24b4b425",
   "metadata": {},
   "outputs": [],
   "source": []
  }
 ],
 "metadata": {
  "kernelspec": {
   "display_name": "ML-from-scratch",
   "language": "python",
   "name": "myenv"
  },
  "language_info": {
   "codemirror_mode": {
    "name": "ipython",
    "version": 3
   },
   "file_extension": ".py",
   "mimetype": "text/x-python",
   "name": "python",
   "nbconvert_exporter": "python",
   "pygments_lexer": "ipython3",
   "version": "3.13.3"
  }
 },
 "nbformat": 4,
 "nbformat_minor": 5
}
