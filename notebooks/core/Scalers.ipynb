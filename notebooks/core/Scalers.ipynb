{
 "cells": [
  {
   "cell_type": "code",
   "execution_count": 1,
   "id": "c45d004d-8d90-40ba-88be-30791734a500",
   "metadata": {},
   "outputs": [],
   "source": [
    "import pandas as pd\n",
    "import numpy as np\n",
    "import os\n",
    "import sys"
   ]
  },
  {
   "cell_type": "code",
   "execution_count": 2,
   "id": "e11f29a7-dcdb-4b09-97a1-a20fca526597",
   "metadata": {},
   "outputs": [],
   "source": [
    "class StandardScaler:\n",
    "    def __init__(self):\n",
    "        self.mean = None\n",
    "        self.std = None\n",
    "\n",
    "    def fit(self, X):\n",
    "        self.mean = np.mean(X, axis=0)\n",
    "        self.std = np.std(X, axis=0)\n",
    "\n",
    "    def transform(self, X):\n",
    "        return (X - self.mean) / self.std\n",
    "\n",
    "    def fit_transform(self, X):\n",
    "        self.fit(X)\n",
    "        return self.transform(X)\n"
   ]
  },
  {
   "cell_type": "code",
   "execution_count": 3,
   "id": "2177bf62-6b7f-41a4-840b-a7907652ea79",
   "metadata": {},
   "outputs": [
    {
     "name": "stdout",
     "output_type": "stream",
     "text": [
      "Original X:\n",
      " [[1.0e+00 2.0e+02 1.0e+03]\n",
      " [2.0e+00 3.0e+02 1.1e+03]\n",
      " [3.0e+00 4.0e+02 1.2e+03]]\n",
      "Scaled X:\n",
      " [[-1.22474487 -1.22474487 -1.22474487]\n",
      " [ 0.          0.          0.        ]\n",
      " [ 1.22474487  1.22474487  1.22474487]]\n",
      "Means after scaling: [0. 0. 0.]\n",
      "Stds after scaling: [1. 1. 1.]\n"
     ]
    }
   ],
   "source": [
    "X = np.array([\n",
    "    [1.0, 200.0, 1000.0],\n",
    "    [2.0, 300.0, 1100.0],\n",
    "    [3.0, 400.0, 1200.0]\n",
    "])\n",
    "\n",
    "scaler = StandardScaler()\n",
    "\n",
    "# Fit and transform\n",
    "X_scaled = scaler.fit_transform(X)\n",
    "\n",
    "# Print results\n",
    "print(\"Original X:\\n\", X)\n",
    "print(\"Scaled X:\\n\", X_scaled)\n",
    "\n",
    "# Check means and stds of scaled data (should be ~0 and ~1)\n",
    "print(\"Means after scaling:\", np.mean(X_scaled, axis=0))\n",
    "print(\"Stds after scaling:\", np.std(X_scaled, axis=0))"
   ]
  },
  {
   "cell_type": "code",
   "execution_count": 6,
   "id": "fa6dca92-4cc5-4e4c-9cc9-541f098a3f31",
   "metadata": {},
   "outputs": [],
   "source": [
    "class MinMaxScaler:\n",
    "    def __init__(self):\n",
    "        self.max = None\n",
    "        self.min = None\n",
    "\n",
    "    def fit(self, X):\n",
    "        X = np.array(X, dtype=float)\n",
    "        self.max = np.max(X, axis=0)\n",
    "        self.min = np.min(X, axis=0)\n",
    "\n",
    "    def transform(self, X):\n",
    "        X = np.array(X, dtype=float)\n",
    "        denom = self.max - self.min\n",
    "        # Works for both scalars and arrays\n",
    "        denom = np.where(denom == 0, 1, denom)\n",
    "        return (X - self.min) / denom\n",
    "\n",
    "    def fit_transform(self, X):\n",
    "        self.fit(X)\n",
    "        return self.transform(X)"
   ]
  },
  {
   "cell_type": "code",
   "execution_count": 7,
   "id": "c74ebbcf-d3cf-4733-8089-beafa3a6f30a",
   "metadata": {},
   "outputs": [
    {
     "name": "stdout",
     "output_type": "stream",
     "text": [
      "Original X:\n",
      " [[1.0e+00 2.0e+02 1.0e+03]\n",
      " [2.0e+00 3.0e+02 1.1e+03]\n",
      " [3.0e+00 4.0e+02 1.2e+03]]\n",
      "Scaled X:\n",
      " [[0.  0.  0. ]\n",
      " [0.5 0.5 0.5]\n",
      " [1.  1.  1. ]]\n",
      "Means after scaling: [0.5 0.5 0.5]\n",
      "Stds after scaling: [0.40824829 0.40824829 0.40824829]\n"
     ]
    }
   ],
   "source": [
    "X = np.array([\n",
    "    [1.0, 200.0, 1000.0],\n",
    "    [2.0, 300.0, 1100.0],\n",
    "    [3.0, 400.0, 1200.0]\n",
    "])\n",
    "\n",
    "scaler = MinMaxScaler()\n",
    "\n",
    "# Fit and transform\n",
    "X_scaled = scaler.fit_transform(X)\n",
    "\n",
    "# Print results\n",
    "print(\"Original X:\\n\", X)\n",
    "print(\"Scaled X:\\n\", X_scaled)\n",
    "\n",
    "# Check means and stds of scaled data (should be ~0 and ~1)\n",
    "print(\"Means after scaling:\", np.mean(X_scaled, axis=0))\n",
    "print(\"Stds after scaling:\", np.std(X_scaled, axis=0))"
   ]
  },
  {
   "cell_type": "code",
   "execution_count": 8,
   "id": "4a57d16b-f2aa-4e48-a9a0-adbc3ccfde63",
   "metadata": {},
   "outputs": [],
   "source": [
    "class MaxAbsScaler:\n",
    "    def __init__(self):\n",
    "        self.max = None\n",
    "\n",
    "    def fit(self, X):\n",
    "        X = np.array(X, dtype=float)\n",
    "        self.max = np.max(np.abs(X), axis=0)\n",
    "\n",
    "    def transform(self, X):\n",
    "        X = np.array(X, dtype=float)\n",
    "        safe_max = np.where(self.max == 0, 1, self.max)\n",
    "        return X / safe_max\n",
    "\n",
    "    def fit_transform(self, X):\n",
    "        self.fit(X)\n",
    "        return self.transform(X)"
   ]
  },
  {
   "cell_type": "code",
   "execution_count": 9,
   "id": "3e790463-79f6-4f70-a1e5-4dc37db1a8d2",
   "metadata": {},
   "outputs": [
    {
     "name": "stdout",
     "output_type": "stream",
     "text": [
      "Original X:\n",
      " [[1.0e+00 2.0e+02 1.0e+03]\n",
      " [2.0e+00 3.0e+02 1.1e+03]\n",
      " [3.0e+00 4.0e+02 1.2e+03]]\n",
      "Scaled X:\n",
      " [[0.33333333 0.5        0.83333333]\n",
      " [0.66666667 0.75       0.91666667]\n",
      " [1.         1.         1.        ]]\n",
      "Means after scaling: [0.66666667 0.75       0.91666667]\n",
      "Stds after scaling: [0.27216553 0.20412415 0.06804138]\n"
     ]
    }
   ],
   "source": [
    "X = np.array([\n",
    "    [1.0, 200.0, 1000.0],\n",
    "    [2.0, 300.0, 1100.0],\n",
    "    [3.0, 400.0, 1200.0]\n",
    "])\n",
    "\n",
    "scaler = MaxAbsScaler()\n",
    "\n",
    "# Fit and transform\n",
    "X_scaled = scaler.fit_transform(X)\n",
    "\n",
    "# Print results\n",
    "print(\"Original X:\\n\", X)\n",
    "print(\"Scaled X:\\n\", X_scaled)\n",
    "\n",
    "# Check means and stds of scaled data (should be ~0 and ~1)\n",
    "print(\"Means after scaling:\", np.mean(X_scaled, axis=0))\n",
    "print(\"Stds after scaling:\", np.std(X_scaled, axis=0))"
   ]
  },
  {
   "cell_type": "code",
   "execution_count": 10,
   "id": "0e16f72a-f42d-4f61-aca7-59baf6420acf",
   "metadata": {},
   "outputs": [],
   "source": [
    "class RobustScaler:\n",
    "    def __init__(self):\n",
    "        self.q1 = None\n",
    "        self.q2 = None\n",
    "        self.q3 = None\n",
    "\n",
    "    def fit(self, X):\n",
    "        X = np.array(X, dtype=float)\n",
    "        self.q1 = np.quantile(X, 0.25, axis=0)\n",
    "        self.q2 = np.quantile(X, 0.5, axis=0)\n",
    "        self.q3 = np.quantile(X, 0.75, axis=0)\n",
    "\n",
    "    def transform(self, X):\n",
    "        X = np.array(X, dtype=float)\n",
    "        iqr = self.q3 - self.q1\n",
    "        safe_iqr = np.where(iqr == 0, 1, iqr)\n",
    "        return (X-self.q2)/safe_iqr\n",
    "\n",
    "    def fit_transform(self, X):\n",
    "        self.fit(X)\n",
    "        return self.transform(X)"
   ]
  },
  {
   "cell_type": "code",
   "execution_count": 11,
   "id": "3e4da32f-e193-4f83-adca-49d4935818be",
   "metadata": {},
   "outputs": [
    {
     "name": "stdout",
     "output_type": "stream",
     "text": [
      "Original X:\n",
      " [[1.0e+00 2.0e+02 1.0e+03]\n",
      " [2.0e+00 3.0e+02 1.1e+03]\n",
      " [3.0e+00 4.0e+02 1.2e+03]]\n",
      "Scaled X:\n",
      " [[0.33333333 0.5        0.83333333]\n",
      " [0.66666667 0.75       0.91666667]\n",
      " [1.         1.         1.        ]]\n",
      "Means after scaling: [0.66666667 0.75       0.91666667]\n",
      "Stds after scaling: [0.27216553 0.20412415 0.06804138]\n"
     ]
    }
   ],
   "source": [
    "X = np.array([\n",
    "    [1.0, 200.0, 1000.0],\n",
    "    [2.0, 300.0, 1100.0],\n",
    "    [3.0, 400.0, 1200.0]\n",
    "])\n",
    "\n",
    "scaler = MaxAbsScaler()\n",
    "\n",
    "# Fit and transform\n",
    "X_scaled = scaler.fit_transform(X)\n",
    "\n",
    "# Print results\n",
    "print(\"Original X:\\n\", X)\n",
    "print(\"Scaled X:\\n\", X_scaled)\n",
    "\n",
    "# Check means and stds of scaled data (should be ~0 and ~1)\n",
    "print(\"Means after scaling:\", np.mean(X_scaled, axis=0))\n",
    "print(\"Stds after scaling:\", np.std(X_scaled, axis=0))"
   ]
  }
 ],
 "metadata": {
  "kernelspec": {
   "display_name": "ML-from-scratch",
   "language": "python",
   "name": "myenv"
  },
  "language_info": {
   "codemirror_mode": {
    "name": "ipython",
    "version": 3
   },
   "file_extension": ".py",
   "mimetype": "text/x-python",
   "name": "python",
   "nbconvert_exporter": "python",
   "pygments_lexer": "ipython3",
   "version": "3.13.3"
  }
 },
 "nbformat": 4,
 "nbformat_minor": 5
}
