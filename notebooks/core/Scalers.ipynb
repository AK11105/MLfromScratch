{
 "cells": [
  {
   "cell_type": "code",
   "execution_count": 1,
   "id": "c45d004d-8d90-40ba-88be-30791734a500",
   "metadata": {},
   "outputs": [],
   "source": [
    "import pandas as pd\n",
    "import numpy as np\n",
    "import os\n",
    "import sys"
   ]
  },
  {
   "cell_type": "code",
   "execution_count": 2,
   "id": "e11f29a7-dcdb-4b09-97a1-a20fca526597",
   "metadata": {},
   "outputs": [],
   "source": [
    "class StandardScaler:\n",
    "    def __init__(self):\n",
    "        self.mean = None\n",
    "        self.std = None\n",
    "\n",
    "    def fit(self, X):\n",
    "        self.mean = np.mean(X, axis=0)\n",
    "        self.std = np.std(X, axis=0)\n",
    "\n",
    "    def transform(self, X):\n",
    "        return (X - self.mean) / self.std\n",
    "\n",
    "    def fit_transform(self, X):\n",
    "        self.fit(X)\n",
    "        return self.transform(X)\n"
   ]
  },
  {
   "cell_type": "code",
   "execution_count": 3,
   "id": "2177bf62-6b7f-41a4-840b-a7907652ea79",
   "metadata": {},
   "outputs": [
    {
     "name": "stdout",
     "output_type": "stream",
     "text": [
      "Original X:\n",
      " [[1.0e+00 2.0e+02 1.0e+03]\n",
      " [2.0e+00 3.0e+02 1.1e+03]\n",
      " [3.0e+00 4.0e+02 1.2e+03]]\n",
      "Scaled X:\n",
      " [[-1.22474487 -1.22474487 -1.22474487]\n",
      " [ 0.          0.          0.        ]\n",
      " [ 1.22474487  1.22474487  1.22474487]]\n",
      "Means after scaling: [0. 0. 0.]\n",
      "Stds after scaling: [1. 1. 1.]\n"
     ]
    }
   ],
   "source": [
    "X = np.array([\n",
    "    [1.0, 200.0, 1000.0],\n",
    "    [2.0, 300.0, 1100.0],\n",
    "    [3.0, 400.0, 1200.0]\n",
    "])\n",
    "\n",
    "scaler = StandardScaler()\n",
    "\n",
    "# Fit and transform\n",
    "X_scaled = scaler.fit_transform(X)\n",
    "\n",
    "# Print results\n",
    "print(\"Original X:\\n\", X)\n",
    "print(\"Scaled X:\\n\", X_scaled)\n",
    "\n",
    "# Check means and stds of scaled data (should be ~0 and ~1)\n",
    "print(\"Means after scaling:\", np.mean(X_scaled, axis=0))\n",
    "print(\"Stds after scaling:\", np.std(X_scaled, axis=0))"
   ]
  }
 ],
 "metadata": {
  "kernelspec": {
   "display_name": "ML-from-scratch",
   "language": "python",
   "name": "myenv"
  },
  "language_info": {
   "codemirror_mode": {
    "name": "ipython",
    "version": 3
   },
   "file_extension": ".py",
   "mimetype": "text/x-python",
   "name": "python",
   "nbconvert_exporter": "python",
   "pygments_lexer": "ipython3",
   "version": "3.13.3"
  }
 },
 "nbformat": 4,
 "nbformat_minor": 5
}
