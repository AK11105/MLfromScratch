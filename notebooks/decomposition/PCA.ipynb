{
 "cells": [
  {
   "cell_type": "code",
   "execution_count": 2,
   "id": "13fecc29-6679-4d1c-b302-4b4d50876563",
   "metadata": {},
   "outputs": [],
   "source": [
    "import numpy as np\n",
    "import pandas as pd\n",
    "import matplotlib.pyplot as plt"
   ]
  },
  {
   "cell_type": "code",
   "execution_count": 6,
   "id": "30c6a28d-6623-4a8f-92ee-8096063dd3c3",
   "metadata": {},
   "outputs": [],
   "source": [
    "class PCA:\n",
    "    def __init__(self, n_components=None):\n",
    "        self.n_components = n_components\n",
    "        self.components_ = None\n",
    "        self.explained_variance_ = None\n",
    "        self.n_components_ = None\n",
    "        self.explained_variance_ratio_ = None\n",
    "        self.mean_ = None\n",
    "\n",
    "    def fit(self, X):\n",
    "        X = pd.DataFrame(X)\n",
    "\n",
    "        #Store mean\n",
    "        self.mean_ = X.mean(axis=0).to_numpy()\n",
    "        \n",
    "        # Center data\n",
    "        X_centred = X - X.mean(axis=0)\n",
    "        \n",
    "        # Covariance matrix\n",
    "        cov_matrix = np.cov(X_centred, rowvar=False)\n",
    "        \n",
    "        # Eigen decomposition\n",
    "        eigvals, eigvecs = np.linalg.eigh(cov_matrix)\n",
    "        \n",
    "        # Sort eigenvalues and eigenvectors (descending order)\n",
    "        idxs = np.argsort(eigvals)[::-1]\n",
    "        eigvals = eigvals[idxs]\n",
    "        eigvecs = eigvecs[:, idxs]\n",
    "        \n",
    "        # Number of components\n",
    "        if self.n_components is None:\n",
    "            self.n_components_ = len(eigvals)\n",
    "        else:\n",
    "            self.n_components_ = self.n_components\n",
    "        \n",
    "        # Keep top components\n",
    "        self.explained_variance_ = eigvals[:self.n_components_]\n",
    "        self.components_ = eigvecs[:, :self.n_components_]\n",
    "        \n",
    "        # Explained variance ratio\n",
    "        total_var = eigvals.sum()\n",
    "        self.explained_variance_ratio_ = self.explained_variance_ / total_var\n",
    "\n",
    "        return self\n",
    "\n",
    "    def transform(self, X):\n",
    "        X = pd.DataFrame(X)\n",
    "        X_centred = X - X.mean(axis=0)\n",
    "        return np.dot(X_centred, self.components_)\n",
    "\n",
    "    def fit_transform(self, X):\n",
    "        self.fit(X)\n",
    "        return self.transform(X)\n",
    "\n",
    "    def inverse_transform(self, Z):\n",
    "        \"\"\"Reconstruct original data from reduced representation\"\"\"\n",
    "        return np.dot(Z, self.components_.T) + self.mean_"
   ]
  },
  {
   "cell_type": "code",
   "execution_count": 7,
   "id": "1408266f-5b11-45ac-9ac4-04ba0752d5b6",
   "metadata": {},
   "outputs": [
    {
     "name": "stdout",
     "output_type": "stream",
     "text": [
      "Original shape: (100, 4)\n",
      "Reduced shape: (100, 2)\n",
      "Reconstructed shape: (100, 4)\n",
      "Reconstruction MSE: 0.035089571371266996\n",
      "Explained variance ratio: [0.33208002 0.24534727]\n"
     ]
    }
   ],
   "source": [
    "# Create synthetic dataset (100 samples, 4 features)\n",
    "np.random.seed(0)\n",
    "X = np.random.rand(100, 4)\n",
    "\n",
    "# Reduce to 2 components\n",
    "pca = PCA(n_components=2)\n",
    "Z = pca.fit_transform(X)\n",
    "\n",
    "# Reconstruct back\n",
    "X_reconstructed = pca.inverse_transform(Z)\n",
    "\n",
    "# Print results\n",
    "print(\"Original shape:\", X.shape)\n",
    "print(\"Reduced shape:\", Z.shape)\n",
    "print(\"Reconstructed shape:\", X_reconstructed.shape)\n",
    "\n",
    "# Mean squared reconstruction error\n",
    "mse = np.mean((X - X_reconstructed) ** 2)\n",
    "print(\"Reconstruction MSE:\", mse)\n",
    "\n",
    "# Explained variance ratio\n",
    "print(\"Explained variance ratio:\", pca.explained_variance_ratio_)"
   ]
  }
 ],
 "metadata": {
  "kernelspec": {
   "display_name": "ML-from-scratch",
   "language": "python",
   "name": "myenv"
  },
  "language_info": {
   "codemirror_mode": {
    "name": "ipython",
    "version": 3
   },
   "file_extension": ".py",
   "mimetype": "text/x-python",
   "name": "python",
   "nbconvert_exporter": "python",
   "pygments_lexer": "ipython3",
   "version": "3.13.3"
  }
 },
 "nbformat": 4,
 "nbformat_minor": 5
}
